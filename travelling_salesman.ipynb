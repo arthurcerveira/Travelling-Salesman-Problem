{
  "nbformat": 4,
  "nbformat_minor": 0,
  "metadata": {
    "language_info": {
      "codemirror_mode": {
        "name": "ipython",
        "version": 3
      },
      "file_extension": ".py",
      "mimetype": "text/x-python",
      "name": "python",
      "nbconvert_exporter": "python",
      "pygments_lexer": "ipython3",
      "version": "3.8.5-final"
    },
    "orig_nbformat": 2,
    "kernelspec": {
      "name": "python3",
      "display_name": "Python 3.8.5 64-bit ('venv')",
      "metadata": {
        "interpreter": {
          "hash": "d1a3b74fb2c8c7c10517b35c13868d202c52a9790610ab006a23d0ba95dc76ef"
        }
      }
    },
    "colab": {
      "name": "travelling_salesman.ipynb",
      "provenance": [],
      "collapsed_sections": []
    }
  },
  "cells": [
    {
      "cell_type": "markdown",
      "metadata": {
        "id": "qY0_K8W_Hh6l"
      },
      "source": [
        "# Problema do Caixeiro Viajante"
      ]
    },
    {
      "cell_type": "markdown",
      "metadata": {
        "id": "E5EzFQi3Hh6l"
      },
      "source": [
        "## Introdução\n",
        "\n",
        "O Problema do Caixeiro Viajante (CVP) é um problema considerado computacionalmente dificil de ser resolvido, isso é, pertence a classe de problemas NP-Difícil. Nesse problema, temos como objetivo encontrar o menor caminho para percorrer uma série de pontos (e. g. cidades em um mapa, vértices em um grafo) e retornar a posição inicial. Assim, o objetivo desse trabalho é apresentar e comparar diferentes abordagens para a resolução desse problema."
      ]
    },
    {
      "cell_type": "code",
      "metadata": {
        "id": "mJWEHXtSHh6l"
      },
      "source": [
        "# Importando bibliotecas\n",
        "from time import time\n",
        "\n",
        "from scipy.sparse import csr_matrix\n",
        "from scipy.sparse.csgraph import minimum_spanning_tree\n",
        "import matplotlib.pyplot as plt\n",
        "import networkx as nx\n",
        "import numpy as np"
      ],
      "execution_count": 1,
      "outputs": []
    },
    {
      "cell_type": "code",
      "metadata": {
        "id": "EBYZFmThHh6l"
      },
      "source": [
        "# Funcões auxiliares\n",
        "def read_matrix_file(file):\n",
        "    with open(file) as matrix_file:\n",
        "        matrix = [list(map(int, line.split())) for line in matrix_file]\n",
        "\n",
        "    return matrix\n",
        "\n",
        "def show_graph(matrix, draw_edges=False):\n",
        "    G = nx.from_numpy_matrix(np.array(matrix))\n",
        "    pos = nx.shell_layout(G)\n",
        "    nx.draw(G, pos)\n",
        "\n",
        "    if draw_edges:\n",
        "        nx.draw_networkx_edge_labels(G, pos, label_pos=0.3)\n",
        "\n",
        "    plt.show()\n",
        "\n",
        "def path_to_matrix(path, matrix):\n",
        "    # Creates an adjacency matrix representing the path\n",
        "    nodes = range(len(matrix))\n",
        "    path_matrix = np.zeros_like(matrix)\n",
        "\n",
        "    for index in nodes:\n",
        "        line = path[index]\n",
        "        column = path[index + 1]\n",
        "\n",
        "        edge_weight = matrix[line][column]\n",
        "        path_matrix[line][column] = edge_weight\n",
        "    \n",
        "    return path_matrix\n",
        "\n",
        "def calculate_path_cost(matrix, path):\n",
        "    tsp_cost = 0\n",
        "    nodes = range(len(matrix))\n",
        "\n",
        "    for index in nodes:\n",
        "        line = path[index]\n",
        "        column = path[index + 1]\n",
        "\n",
        "        edge_weight = matrix[line][column]\n",
        "\n",
        "        tsp_cost += edge_weight\n",
        "\n",
        "    return tsp_cost"
      ],
      "execution_count": 2,
      "outputs": []
    },
    {
      "cell_type": "markdown",
      "metadata": {
        "id": "Ja7k-JL0Hh6l"
      },
      "source": [
        "## Força bruta\n",
        "\n",
        "Uma das abordagens consideradas para resolver o PCV é a força bruta. Aqui, o método utilizado consiste em verificar todos os caminhos possíveis de forma exaustiva. O algoritmo de força bruta garante sempre que seja encontrado o melhor caminho possível para o problema. A desvantagem dessa abrodagem é sua alta complexidade: O(N!), que torna inviável a sua execução com valores mais altos de entrada.\n",
        "\n",
        "Abaixo está apresentada a implementação desse algoritmo de forma recursiva."
      ]
    },
    {
      "cell_type": "code",
      "metadata": {
        "tags": [],
        "id": "emwf9VyPHh6l"
      },
      "source": [
        "def brute_force_tsp(matrix, path=[0], best_cost=float(\"inf\"), best_path=None):\n",
        "    # Recursion base\n",
        "    if len(path) == len(matrix):\n",
        "        # Path ends on the initial node\n",
        "        path.append(0)\n",
        "        final_cost = calculate_path_cost(matrix, path)\n",
        "\n",
        "        if final_cost < best_cost:\n",
        "            best_path = path.copy()\n",
        "            best_cost = final_cost\n",
        "\n",
        "        path.pop()\n",
        "\n",
        "        return best_cost, best_path\n",
        "\n",
        "    # Recursive step\n",
        "    for node in range(len(matrix)):\n",
        "        if node in path:\n",
        "            continue\n",
        "\n",
        "        path.append(node)\n",
        "\n",
        "        best_cost, best_path = brute_force_tsp(matrix, path, best_cost, best_path)\n",
        "\n",
        "        path.pop()\n",
        "\n",
        "    return best_cost, best_path"
      ],
      "execution_count": 3,
      "outputs": []
    },
    {
      "cell_type": "markdown",
      "metadata": {
        "id": "Ed6XRv0IHh6l"
      },
      "source": [
        "## Algoritmo aproximativo\n",
        "\n",
        "A outra abordagem utilizada para a resolução do PCV é de algoritmo aproximativo. Essa abordagem só é possível para o PCV em sua versão euclidiana. O algoritmo consiste em montar uma árvore de espalhamento mínima, e então criar um ciclo hamiltoniano baseado nessa árvore (um caminho sem repetições que retorne ao vértice original). Essa abordagem possui uma complexidade menor que a força bruta, tornando viável solucionar o PVC com entradas maiores. Esse algoritmo é 2-aproximado, logo, podemos afirmar que o caminho encontrado por ele é, no pior caso, 2x pior que o melhor caminho.\n",
        "\n",
        "A implementação desse algoritmo está apresentada abaixo."
      ]
    },
    {
      "cell_type": "code",
      "metadata": {
        "id": "-gQzxqMDHh6l"
      },
      "source": [
        "def approximate_tsp(matrix, initial_node=0):\n",
        "    # Convert adjacency matrix to MST\n",
        "    MST = minimum_spanning_tree(matrix)\n",
        "    MST = MST.toarray().astype(int)\n",
        "\n",
        "    # Set initial parameters\n",
        "    nodes = range(len(MST))\n",
        "\n",
        "    path = list()\n",
        "    path.append(initial_node)\n",
        "\n",
        "    current_node = initial_node\n",
        "    previous_node = -1\n",
        "\n",
        "    # Creates a path until all nodes are connected\n",
        "    while len(set(path)) != len(nodes):\n",
        "        for connected_node in nodes:\n",
        "            # If there's no edge, continue\n",
        "            if MST[current_node, connected_node] == 0 and MST[connected_node, current_node] == 0:\n",
        "                continue\n",
        "\n",
        "            elif connected_node in path:\n",
        "                continue\n",
        "            \n",
        "            else:\n",
        "                path.append(connected_node)\n",
        "                current_node = connected_node\n",
        "                # Reset previous node\n",
        "                previous_node = -1\n",
        "                break\n",
        "        else:\n",
        "            # If it did not found an edge, go back to previous node\n",
        "            current_node = path[previous_node]\n",
        "            previous_node = previous_node - 1\n",
        "            \n",
        "    # Path ends on the initial node\n",
        "    path.append(initial_node)\n",
        "    \n",
        "    tsp_cost = calculate_path_cost(matrix, path)\n",
        "    \n",
        "    return tsp_cost, path"
      ],
      "execution_count": 4,
      "outputs": []
    },
    {
      "cell_type": "markdown",
      "metadata": {
        "id": "JpYtsABVHh6m"
      },
      "source": [
        "## Comparando os algoritmos"
      ]
    },
    {
      "cell_type": "code",
      "metadata": {
        "id": "6t2ibIlRHh6m"
      },
      "source": [
        "def compare_algorithms(matrix_file, run_brute_force=False):\n",
        "    matrix = read_matrix_file(matrix_file)\n",
        "\n",
        "    # Get best approximate algorithm based on initial node\n",
        "    costs = dict()\n",
        "\n",
        "    for initial_node in range(len(matrix)):\n",
        "        start_time = time()\n",
        "        cost, approximate_path = approximate_tsp(matrix, initial_node=initial_node)\n",
        "        approximate_time = time() - start_time\n",
        "\n",
        "        costs[cost] = {\"path\": approximate_path,\n",
        "                       \"time\": approximate_time}\n",
        "\n",
        "    min_cost = min(costs.keys())\n",
        "    min_path = costs[min_cost][\"path\"]\n",
        "    min_time = costs[min_cost][\"time\"]\n",
        "\n",
        "    # Get cost from file name\n",
        "    file_name = matrix_file.split('/').pop().upper()\n",
        "    tsp, cost = file_name.split('_')\n",
        "    cost = cost.split('.')[0]\n",
        "    brute_force_time = '--'\n",
        "\n",
        "    if run_brute_force:\n",
        "        start_time = time()\n",
        "        cost, path = brute_force_tsp(matrix)\n",
        "        brute_force_time = time() - start_time\n",
        "    \n",
        "    return tsp, min_cost, min_time, cost, brute_force_time"
      ],
      "execution_count": 5,
      "outputs": []
    },
    {
      "cell_type": "code",
      "metadata": {
        "colab": {
          "base_uri": "https://localhost:8080/"
        },
        "id": "EgTLK9HnHh6m",
        "outputId": "24558025-d54f-41cd-ae4b-980d59070f2c"
      },
      "source": [
        "files = ((\"tsp1_253.txt\", True),\n",
        "         (\"tsp2_1248.txt\", True),\n",
        "         (\"tsp3_1194.txt\", False),\n",
        "         (\"tsp4_7013.txt\", False),\n",
        "         (\"tsp5_27603.txt\", False))\n",
        "\n",
        "print(\"TSP\\t\\tAA Cost\\t\\tAA Time\\t\\tBF Cost\\t\\tBF Time\")\n",
        "\n",
        "for tsp_file in files:\n",
        "    tsp, brute_force = tsp_file\n",
        "\n",
        "    tsp, ap_cost, ap_time, bf_cost, bf_time = compare_algorithms(\n",
        "        f\"./tsp_data/{tsp}\", run_brute_force=brute_force)\n",
        "    \n",
        "    if brute_force:\n",
        "        print(f'{tsp}\\t\\t{ap_cost}\\t\\t{ap_time:.5f}\\t\\t{bf_cost}\\t\\t{bf_time:.5f}')\n",
        "    else:\n",
        "        print(f'{tsp}\\t\\t{ap_cost}\\t\\t{ap_time:.5f}\\t\\t{bf_cost}\\t\\t{bf_time}')\n"
      ],
      "execution_count": 6,
      "outputs": [
        {
          "output_type": "stream",
          "name": "stdout",
          "text": [
            "TSP\t\tAA Cost\t\tAA Time\t\tBF Cost\t\tBF Time\n",
            "TSP1\t\t260\t\t0.00190\t\t253\t\t14.28295\n",
            "TSP2\t\t1248\t\t0.00036\t\t1248\t\t0.00028\n",
            "TSP3\t\t1240\t\t0.00052\t\t1194\t\t--\n",
            "TSP4\t\t9976\t\t0.00536\t\t7013\t\t--\n",
            "TSP5\t\t31662\t\t0.00098\t\t27603\t\t--\n"
          ]
        }
      ]
    },
    {
      "cell_type": "markdown",
      "metadata": {
        "id": "mk0ldyFyHh6n"
      },
      "source": [
        "## Resultados\n",
        "\n",
        "Para os 2 primeiros TSPs, foram executados ambos os algoritmos de força bruta e aproximativo. A execução do algoritmo de força bruta se mostrou inviável para os demais TSPs, portanto, foram excutados apenas os algoritmos aproximativos.\n",
        "\n",
        "### Custo da solução\n",
        "Essa primeira tabela apresenta o custo dos caminhos encontrados pelo algoritmo aproximativo e pela força bruta. Aqui, também é possível observar que a proporção entre as duas soluções se manteve menor que 2x em todos os casos. Esse resultado está de acordo com a teoria vista em aula. No TSP2, o menor caminho encontrado pelo algoritmo aproximativo é igual ao caminho encontrado pela força bruta, o que pode ser explicado pelo baixo número de vértices.\n",
        "\n",
        "No algoritmo aproximativo, foi observado que o custo resultante variava de acordo com vértice inicial escolhido. Por sua baixa complexidade, foi definida a estratégia de verificar todos os vértices como vértice inicial, decidindo pelo o que apresentasse o menor caminho. Na tabela também está apresentado o pior caso para cada execução do algoritmo. Mesmo nesse pior caso, o custo se manteve menor que 2x o custo do melhor caminho.\n",
        "\n",
        "| TSP \t| Custo Força Bruta \t| Melhor Custo Aproximativo \t| Proporção \t| Pior Custo Aproximativo \t| Proporção \t|\n",
        "|-\t|-\t|-\t|-\t|-\t|-\t|\n",
        "| TSP1 \t| 253 \t| 260 \t| 1.028 \t| 274 \t| 1.083 \t|\n",
        "| TSP2 \t| 1248 \t| 1248 \t| 1 \t| 1455 \t| 1.166 \t|\n",
        "| TSP3 \t| 1194 \t| 1240 \t| 1.039 \t| 1613 \t| 1.351 \t|\n",
        "| TSP4 \t| 7013 \t| 9976 \t| 1.423 \t| 13798 \t| 1.967 \t|\n",
        "| TSP5 \t| 27603 \t| 31662 \t| 1.147 \t| 35881 \t| 1.300 \t|\n",
        "\n",
        "### Tempo de execução\n",
        "Essa segunda tabela apresenta uma comparação entre o tempo de execução em segundos de ambos os algoritmos. Aqui, é possível verificar como o número de vértices afeta o tempo de execução de cada solução. O tempo estimado da força bruta foi calculado baseado no fatorial do número do vértices. O TSP2 apresentou menor tempo de execução na força bruto do que no algoritmo aproximativo, o que é possível em razão do seu baixo número de vértices.\n",
        "\n",
        "| TSP \t| Tempo Aproximativo \t| Tempo Força Bruta \t| Vértices \t|\n",
        "|-\t|-\t|-\t|-\t|\n",
        "| TSP1 \t| 0.00190 \t| 14.28295 \t| 11 \t|\n",
        "| TSP2 \t| 0.00036 \t| 0.00028 \t| 6 \t|\n",
        "| TSP3 \t| 0.00052 \t| 5 dias e 2 horas (estimado) \t| 15 \t|\n",
        "| TSP4 \t| 0.00536 \t| 2.852e36 anos (estimado) \t| 44 \t|\n",
        "| TSP5 \t| 0.00980 \t| 9.482e16 anos (estimado) \t| 29 \t|\n",
        "\n",
        "### Caminho encontrado\n",
        "As figuras a seguir apresentam (da esquerda para direita) o grafo original, o melhor caminho aproximado, e o melhor caminho (onde foi possível executar a força bruta). Essa figuras foram geradas pela biblioteca NetworkX.\n",
        "\n",
        "#### TSP 1\n",
        "\n",
        "<p align=\"center\">\n",
        "  <img src=\"https://raw.githubusercontent.com/arthurcerveira/Travelling-Salesman-Problem/master/figures/tsp1_253.jpg\" alt=\"TSP 1\"/>\n",
        "</p>\n",
        "\n",
        "#### TSP 2\n",
        "\n",
        "<p align=\"center\">\n",
        "  <img src=\"https://raw.githubusercontent.com/arthurcerveira/Travelling-Salesman-Problem/master/figures/tsp2_1248.jpg\" alt=\"TSP 2\"/>\n",
        "</p>\n",
        "\n",
        "#### TSP 3\n",
        "\n",
        "<p align=\"center\">\n",
        "  <img src=\"https://raw.githubusercontent.com/arthurcerveira/Travelling-Salesman-Problem/master/figures/tsp3_1194.jpg\" alt=\"TSP 3\"/>\n",
        "</p>\n",
        "\n",
        "#### TSP 4\n",
        "\n",
        "<p align=\"center\">\n",
        "  <img src=\"https://raw.githubusercontent.com/arthurcerveira/Travelling-Salesman-Problem/master/figures/tsp4_7013.jpg\" alt=\"TSP 4\"/>\n",
        "</p>\n",
        "\n",
        "\n",
        "#### TSP 5\n",
        "\n",
        "<p align=\"center\">\n",
        "  <img src=\"https://raw.githubusercontent.com/arthurcerveira/Travelling-Salesman-Problem/master/figures/tsp5_27603.jpg\" alt=\"TSP 5\"/>\n",
        "</p>\n"
      ]
    }
  ]
}