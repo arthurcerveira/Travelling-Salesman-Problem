{
 "metadata": {
  "language_info": {
   "codemirror_mode": {
    "name": "ipython",
    "version": 3
   },
   "file_extension": ".py",
   "mimetype": "text/x-python",
   "name": "python",
   "nbconvert_exporter": "python",
   "pygments_lexer": "ipython3",
   "version": "3.8.5-final"
  },
  "orig_nbformat": 2,
  "kernelspec": {
   "name": "python3",
   "display_name": "Python 3.8.5 64-bit ('venv')",
   "metadata": {
    "interpreter": {
     "hash": "d1a3b74fb2c8c7c10517b35c13868d202c52a9790610ab006a23d0ba95dc76ef"
    }
   }
  }
 },
 "nbformat": 4,
 "nbformat_minor": 2,
 "cells": [
  {
   "source": [
    "# Travelling Salesman Problem"
   ],
   "cell_type": "markdown",
   "metadata": {}
  },
  {
   "source": [
    "from scipy.sparse import csr_matrix\n",
    "from scipy.sparse.csgraph import minimum_spanning_tree\n",
    "import matplotlib.pyplot as plt\n",
    "import networkx as nx\n",
    "import numpy as np"
   ],
   "cell_type": "code",
   "metadata": {},
   "execution_count": 9,
   "outputs": []
  },
  {
   "source": [
    "### Manage the adjacency matrix"
   ],
   "cell_type": "markdown",
   "metadata": {}
  },
  {
   "source": [
    "def read_matrix_file(file):\n",
    "    with open(file) as matrix_file:\n",
    "        matrix = [list(map(int, line.split())) for line in matrix_file]\n",
    "\n",
    "    return matrix\n",
    "\n",
    "def show_graph(matrix, draw_edges=False):\n",
    "    G = nx.from_numpy_matrix(np.array(matrix))\n",
    "    pos = nx.shell_layout(G)\n",
    "    nx.draw(G, pos)\n",
    "\n",
    "    if draw_edges:\n",
    "        nx.draw_networkx_edge_labels(G, pos, label_pos=0.3)\n",
    "\n",
    "    plt.show()\n",
    "\n",
    "def path_to_matrix(path, matrix):\n",
    "    # Creates an adjacency matrix representing the path\n",
    "    nodes = range(len(matrix))\n",
    "    path_matrix = np.zeros_like(matrix)\n",
    "\n",
    "    for index in nodes:\n",
    "        line = path[index]\n",
    "        column = path[index + 1]\n",
    "\n",
    "        edge_weight = matrix[line][column]\n",
    "        path_matrix[line][column] = edge_weight\n",
    "    \n",
    "    return path_matrix\n",
    "\n",
    "def calculate_path_cost(matrix, path):\n",
    "    tsp_cost = 0\n",
    "    nodes = range(len(matrix))\n",
    "\n",
    "    for index in nodes:\n",
    "        line = path[index]\n",
    "        column = path[index + 1]\n",
    "\n",
    "        edge_weight = matrix[line][column]\n",
    "\n",
    "        tsp_cost += edge_weight\n",
    "\n",
    "    return tsp_cost"
   ],
   "cell_type": "code",
   "metadata": {},
   "execution_count": 10,
   "outputs": []
  },
  {
   "source": [
    "### Brute Force"
   ],
   "cell_type": "markdown",
   "metadata": {}
  },
  {
   "cell_type": "code",
   "execution_count": null,
   "metadata": {
    "tags": []
   },
   "outputs": [],
   "source": [
    "# Calculate TSP cost\n",
    "def brute_force_tsp(matrix, path=[0], best_cost=float(\"inf\"), best_path=None):\n",
    "    # Recursion base\n",
    "    if len(path) == len(matrix):\n",
    "        # Path ends on the initial node\n",
    "        path.append(0)\n",
    "        final_cost = calculate_path_cost(matrix, path)\n",
    "\n",
    "        if final_cost < best_cost:\n",
    "            best_path = path.copy()\n",
    "            best_cost = final_cost\n",
    "\n",
    "        path.pop()\n",
    "\n",
    "        return path, best_cost, best_path\n",
    "\n",
    "    # Recursive step\n",
    "    for node in range(len(matrix)):\n",
    "        if node in path:\n",
    "            continue\n",
    "\n",
    "        path.append(node)\n",
    "\n",
    "        node_path, best_cost, best_path = brute_force_tsp(\n",
    "            matrix, path, best_cost, best_path)\n",
    "\n",
    "        path.pop()\n",
    "\n",
    "    return node_path, best_cost, best_path"
   ]
  },
  {
   "source": [
    "### Aprroximation algorithm"
   ],
   "cell_type": "markdown",
   "metadata": {}
  },
  {
   "cell_type": "code",
   "execution_count": null,
   "metadata": {},
   "outputs": [],
   "source": [
    "def approximate_tsp(matrix, initial_node=0):\n",
    "    # Convert adjacency matrix to MST\n",
    "    MST = minimum_spanning_tree(matrix)\n",
    "    MST = MST.toarray().astype(int)\n",
    "\n",
    "    # Set initial parameters\n",
    "    nodes = range(len(MST))\n",
    "\n",
    "    path = list()\n",
    "    path.append(initial_node)\n",
    "\n",
    "    current_node = initial_node\n",
    "    previous_node = -1\n",
    "\n",
    "    # Creates a path until all nodes are connected\n",
    "    while len(set(path)) != len(nodes):\n",
    "        for connected_node in nodes:\n",
    "            # If there's no edge, continue\n",
    "            if MST[current_node, connected_node] == 0 and MST[connected_node, current_node] == 0:\n",
    "                continue\n",
    "\n",
    "            elif connected_node in path:\n",
    "                continue\n",
    "            \n",
    "            else:\n",
    "                path.append(connected_node)\n",
    "                current_node = connected_node\n",
    "                # Reset previous node\n",
    "                previous_node = -1\n",
    "                break\n",
    "        else:\n",
    "            # If it did not found an edge, go back to previous node\n",
    "            current_node = path[previous_node]\n",
    "            previous_node = previous_node - 1\n",
    "            \n",
    "    # Path ends on the initial node\n",
    "    path.append(initial_node)\n",
    "\n",
    "    # Calculate the TSP cost based on the path\n",
    "    tsp_cost = calculate_path_cost(matrix, path)\n",
    "    \n",
    "    return tsp_cost, path"
   ]
  }
 ]
}